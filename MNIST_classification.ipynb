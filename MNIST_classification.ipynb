{
 "cells": [
  {
   "cell_type": "markdown",
   "metadata": {},
   "source": [
    "## tensor flow MNIST"
   ]
  },
  {
   "cell_type": "code",
   "execution_count": 1,
   "metadata": {},
   "outputs": [],
   "source": [
    "import numpy as np\n",
    "import tensorflow as tf\n",
    "import tensorflow_datasets as tfds"
   ]
  },
  {
   "cell_type": "markdown",
   "metadata": {},
   "source": [
    "## data"
   ]
  },
  {
   "cell_type": "code",
   "execution_count": 2,
   "metadata": {},
   "outputs": [],
   "source": [
    "#loading the data\n",
    "#as supervised=true will load the dataset into 2 tuple structure (input,target)\n",
    "#with_info=provides us with info on the version,info,features,no of samples etc and we store it in mnist_info\n",
    "mnist_data,mnist_info=tfds.load(name='mnist',with_info=True,as_supervised=True)"
   ]
  },
  {
   "cell_type": "code",
   "execution_count": 3,
   "metadata": {},
   "outputs": [],
   "source": [
    "## extracting the train and the test data\n",
    "mnist_train,mnist_test=mnist_data['train'],mnist_data['test']\n",
    "# in the tensor flow data set module the train dataset is much bigger than the test so validation data is taken from the train\n",
    "#lets take 10% of it to serve as validation\n",
    "num_validation_samples=0.1*mnist_info.splits['train'].num_examples\n",
    "#we dont know weather it will be an integer, to solve this issue we cast it,casting will cast the variable to the data type\n",
    "num_validation_samples=tf.cast(num_validation_samples,tf.int64)\n",
    "\n",
    "num_test_samples=mnist_info.splits['test'].num_examples\n",
    "num_test_samples=tf.cast(num_test_samples,tf.int64)\n",
    "\n",
    "#scaling the data to make it more nuemerically stable\n",
    "#we convert the image into float so that when we divide by 255 we get answers in float and not integers\n",
    "def scale(image,label):\n",
    "    image=tf.cast(image,tf.float32)\n",
    "    image/=255.\n",
    "    return(image,label)\n",
    "# the below fuction will scale the entire train data and store it in the new variable created\n",
    "scaled_train_and_validation_data=mnist_train.map(scale)\n",
    "test_data=mnist_test.map(scale)"
   ]
  },
  {
   "cell_type": "markdown",
   "metadata": {},
   "source": [
    "### suffling - keeping the info same but in different order"
   ]
  },
  {
   "cell_type": "code",
   "execution_count": 4,
   "metadata": {},
   "outputs": [],
   "source": [
    "## buffer size is used when we are dealing with enormous datasets that we cant suffle at once\n",
    "# if buffer size=1 no shuffling\n",
    "#if buffer size>=num of samples uniform shuffling\n",
    "#buffer size<num of samples we are optimizing the computational power of the comp\n",
    "buffer_size=10000\n",
    "\n",
    "shuffle_train_and_validation_data=scaled_train_and_validation_data.shuffle(buffer_size)\n",
    "# our validation data is already stored in num_validation_samples we can use a method called take to extract them from the shuffle\n",
    "validation_data=shuffle_train_and_validation_data.take(num_validation_samples )\n",
    "#similary we can extract the train data by taking everything else except the validation data from the shuffle\n",
    "train_data=shuffle_train_and_validation_data.skip(num_validation_samples)\n",
    "\n",
    "BATCH_SIZE=100\n",
    "#method called batch is present which is used to combine the consecutive elements into batches\n",
    "train_data=train_data.batch(BATCH_SIZE)\n",
    "#while batching we find the average loss but in testing and validation we take all data at once\n",
    "validation_data=validation_data.batch(num_validation_samples)\n",
    "test_data=test_data.batch(num_test_samples)\n",
    "\n",
    "validation_inputs,validation_targets=next(iter(validation_data))\n",
    "#next loads the next batch\n",
    "#iter craetes an object to be iterated one elemnet at a time"
   ]
  },
  {
   "cell_type": "markdown",
   "metadata": {},
   "source": [
    "## MODEL"
   ]
  },
  {
   "cell_type": "markdown",
   "metadata": {},
   "source": [
    "### OUTLINE THE MODEL"
   ]
  },
  {
   "cell_type": "code",
   "execution_count": 5,
   "metadata": {},
   "outputs": [],
   "source": [
    "# there are 28*28=784 input, 10 outputs(10 digits), we are assuming 2 hidden layers\n",
    "input_size=784\n",
    "output_size=10\n",
    "hidden_layer_size=100\n",
    "# our data is such that each observation is 28*28*1\n",
    "#flatten transforms the tensor into a matrix\n",
    "\n",
    "model=tf.keras.Sequential([\n",
    "                           tf.keras.layers.Flatten(input_shape=(28,28,1)),\n",
    "    #since there are 2 hidden layers\n",
    "                           tf.keras.layers.Dense(hidden_layer_size,activation='relu'),\n",
    "                           tf.keras.layers.Dense(hidden_layer_size,activation='relu'),\n",
    "    #activation function of the output layer must transform the values into probability distribution\n",
    "                           tf.keras.layers.Dense(output_size,activation='softmax')\n",
    "                        ])"
   ]
  },
  {
   "cell_type": "markdown",
   "metadata": {},
   "source": [
    "## choose the optimizer and the loss function"
   ]
  },
  {
   "cell_type": "code",
   "execution_count": 6,
   "metadata": {},
   "outputs": [],
   "source": [
    "#configures the model for training\n",
    "#adam=adaptive moment estimation\n",
    "# metrics tells the one we have to calculate \n",
    "model.compile(optimizer='adam',loss='sparse_categorical_crossentropy',metrics=['accuracy'])"
   ]
  },
  {
   "cell_type": "markdown",
   "metadata": {},
   "source": [
    "## traning"
   ]
  },
  {
   "cell_type": "code",
   "execution_count": 7,
   "metadata": {},
   "outputs": [
    {
     "name": "stdout",
     "output_type": "stream",
     "text": [
      "Epoch 1/5\n",
      "540/540 - 7s - loss: 0.3361 - accuracy: 0.9036 - val_loss: 0.0000e+00 - val_accuracy: 0.0000e+00\n",
      "Epoch 2/5\n",
      "540/540 - 6s - loss: 0.1374 - accuracy: 0.9592 - val_loss: 0.1198 - val_accuracy: 0.9630\n",
      "Epoch 3/5\n",
      "540/540 - 6s - loss: 0.0983 - accuracy: 0.9700 - val_loss: 0.1029 - val_accuracy: 0.9705\n",
      "Epoch 4/5\n",
      "540/540 - 7s - loss: 0.0730 - accuracy: 0.9775 - val_loss: 0.0690 - val_accuracy: 0.9835\n",
      "Epoch 5/5\n",
      "540/540 - 8s - loss: 0.0588 - accuracy: 0.9822 - val_loss: 0.0750 - val_accuracy: 0.9782\n"
     ]
    },
    {
     "data": {
      "text/plain": [
       "<tensorflow.python.keras.callbacks.History at 0x13848d39188>"
      ]
     },
     "execution_count": 7,
     "metadata": {},
     "output_type": "execute_result"
    }
   ],
   "source": [
    "num_epochs=5\n",
    "#number of iterations\n",
    "model.fit(train_data,epochs=num_epochs,validation_data=(validation_inputs,validation_targets),validation_steps=10,verbose=2)\n",
    "#accuracy shows in what percentage of the cases the outputs were equal to the targets\n",
    "#val_accuracy is the true accuracy of the model\n",
    "#cause the traning accuracy is the average accuracy of the model"
   ]
  },
  {
   "cell_type": "markdown",
   "metadata": {},
   "source": [
    "## test the model"
   ]
  },
  {
   "cell_type": "code",
   "execution_count": 8,
   "metadata": {},
   "outputs": [
    {
     "name": "stdout",
     "output_type": "stream",
     "text": [
      "1/1 [==============================] - 2s 2s/step - loss: 0.0970 - accuracy: 0.9704\n"
     ]
    }
   ],
   "source": [
    "# by fine tuning the above we are overfitting the above dataset\n",
    "test_loss,test_accuracy=model.evaluate(test_data)"
   ]
  },
  {
   "cell_type": "code",
   "execution_count": 9,
   "metadata": {},
   "outputs": [
    {
     "name": "stdout",
     "output_type": "stream",
     "text": [
      "0.09700703620910645 0.9704\n"
     ]
    }
   ],
   "source": [
    "print(test_loss,test_accuracy)\n",
    "#getting a value close to the validation accuracy shows that they are not overfitted\n",
    "#test accuracy is the accuracy we would expect to observe if we deploy the model in the real world"
   ]
  },
  {
   "cell_type": "code",
   "execution_count": null,
   "metadata": {},
   "outputs": [],
   "source": []
  }
 ],
 "metadata": {
  "kernelspec": {
   "display_name": "Python [conda env:py3-TF2.0]",
   "language": "python",
   "name": "conda-env-py3-TF2.0-py"
  },
  "language_info": {
   "codemirror_mode": {
    "name": "ipython",
    "version": 3
   },
   "file_extension": ".py",
   "mimetype": "text/x-python",
   "name": "python",
   "nbconvert_exporter": "python",
   "pygments_lexer": "ipython3",
   "version": "3.7.5"
  }
 },
 "nbformat": 4,
 "nbformat_minor": 2
}
